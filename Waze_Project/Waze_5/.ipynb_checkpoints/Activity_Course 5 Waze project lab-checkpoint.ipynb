{
 "cells": [
  {
   "cell_type": "markdown",
   "metadata": {
    "id": "DtNBZFHO3M7n"
   },
   "source": [
    "# **Waze Project**\n",
    "**Course 5 - Regression analysis: Simplify complex data relationships**"
   ]
  },
  {
   "cell_type": "markdown",
   "metadata": {
    "id": "kaOj1equPMAb"
   },
   "source": [
    "Your team is more than halfway through their user churn project. Earlier, you completed a project proposal, used Python to explore and analyze Waze’s user data, created data visualizations, and conducted a hypothesis test. Now, leadership wants your team to build a regression model to predict user churn based on a variety of variables.\n",
    "\n",
    "You check your inbox and discover a new email from Ursula Sayo, Waze's Operations Manager. Ursula asks your team about the details of the regression model. You also notice two follow-up emails from your supervisor, May Santner. The first email is a response to Ursula, and says that the team will build a binomial logistic regression model. In her second email, May asks you to help build the model and prepare an executive summary to share your results.\n",
    "\n",
    "A notebook was structured and prepared to help you in this project. Please complete the following questions and prepare an executive summary."
   ]
  },
  {
   "cell_type": "markdown",
   "metadata": {
    "id": "rgSbVJvomcVa"
   },
   "source": [
    "# **Course 5 End-of-course project: Regression modeling**\n",
    "\n",
    "In this activity, you will build a binomial logistic regression model. As you have learned, logistic regression helps you estimate the probability of an outcome. For data science professionals, this is a useful skill because it allows you to consider more than one variable against the variable you're measuring against. This opens the door for much more thorough and flexible analysis to be completed.\n",
    "<br/>\n",
    "\n",
    "**The purpose** of this project is to demostrate knowledge of exploratory data analysis (EDA) and a binomial logistic regression model.\n",
    "\n",
    "**The goal** is to build a binomial logistic regression model and evaluate the model's performance.\n",
    "<br/>\n",
    "\n",
    "*This activity has three parts:*\n",
    "\n",
    "**Part 1:** EDA & Checking Model Assumptions\n",
    "* What are some purposes of EDA before constructing a binomial logistic regression model?\n",
    "\n",
    "**Part 2:** Model Building and Evaluation\n",
    "* What resources do you find yourself using as you complete this stage?\n",
    "\n",
    "**Part 3:** Interpreting Model Results\n",
    "\n",
    "* What key insights emerged from your model(s)?\n",
    "\n",
    "* What business recommendations do you propose based on the models built?\n",
    "\n",
    "<br/>\n",
    "\n",
    "Follow the instructions and answer the question below to complete the activity. Then, you will complete an executive summary using the questions listed on the PACE Strategy Document.\n",
    "\n",
    "Be sure to complete this activity before moving on. The next course item will provide you with a completed exemplar to compare to your own work."
   ]
  },
  {
   "cell_type": "markdown",
   "metadata": {
    "id": "4L5F-G_cfLWL"
   },
   "source": [
    "# **Build a regression model**"
   ]
  },
  {
   "cell_type": "markdown",
   "metadata": {
    "id": "3UCHQclzQDUL"
   },
   "source": [
    "<img src=\"images/Pace.png\" width=\"100\" height=\"100\" align=left>\n",
    "\n",
    "# **PACE stages**\n"
   ]
  },
  {
   "cell_type": "markdown",
   "metadata": {
    "id": "3lzafIgkjrdR"
   },
   "source": [
    "Throughout these project notebooks, you'll see references to the problem-solving framework PACE. The following notebook components are labeled with the respective PACE stage: Plan, Analyze, Construct, and Execute."
   ]
  },
  {
   "cell_type": "markdown",
   "metadata": {
    "id": "F5O5cx_qQJmX"
   },
   "source": [
    "<img src=\"images/Plan.png\" width=\"100\" height=\"100\" align=left>\n",
    "\n",
    "\n",
    "## **PACE: Plan**\n",
    "Consider the questions in your PACE Strategy Document to reflect on the Plan stage."
   ]
  },
  {
   "cell_type": "markdown",
   "metadata": {
    "id": "D8qYlvkLQsf2"
   },
   "source": [
    "### **Task 1. Imports and data loading**\n",
    "Import the data and packages that you've learned are needed for building logistic regression models."
   ]
  },
  {
   "cell_type": "code",
   "execution_count": 38,
   "metadata": {
    "id": "ccfeg6X6eOVZ"
   },
   "outputs": [],
   "source": [
    "import pandas as pd\n",
    "import numpy as np\n",
    "\n",
    "# Packages for visualization\n",
    "import matplotlib.pyplot as plt\n",
    "import seaborn as sns\n",
    "\n",
    "# Packages for Logistic Regression & Confusion Matrix\n",
    "from sklearn.preprocessing import StandardScaler, OneHotEncoder\n",
    "from sklearn.model_selection import train_test_split\n",
    "from sklearn.metrics import classification_report, accuracy_score, precision_score, \\\n",
    "recall_score, f1_score, confusion_matrix, ConfusionMatrixDisplay\n",
    "from sklearn.linear_model import LogisticRegression"
   ]
  },
  {
   "cell_type": "markdown",
   "metadata": {
    "id": "LjljvyG32kqe"
   },
   "source": [
    "Import the dataset.\n",
    "\n",
    "**Note:** As shown in this cell, the dataset has been automatically loaded in for you. You do not need to download the .csv file, or provide more code, in order to access the dataset and proceed with this lab. Please continue with this activity by completing the following instructions."
   ]
  },
  {
   "cell_type": "code",
   "execution_count": 39,
   "metadata": {
    "id": "TyR3sBUYJBO8"
   },
   "outputs": [],
   "source": [
    "# Load the dataset by running this cell\n",
    "\n",
    "df = pd.read_csv('waze_dataset.csv')"
   ]
  },
  {
   "cell_type": "markdown",
   "metadata": {
    "id": "OnrvCSfHUWPv"
   },
   "source": [
    "<img src=\"images/Analyze.png\" width=\"100\" height=\"100\" align=left>\n",
    "\n",
    "## **PACE: Analyze**\n",
    "\n",
    "Consider the questions in your PACE Strategy Document to reflect on the Analyze stage.\n",
    "\n",
    "In this stage, consider the following question:\n",
    "\n",
    "* What are some purposes of EDA before constructing a binomial logistic regression model?"
   ]
  },
  {
   "cell_type": "markdown",
   "metadata": {
    "id": "BgK-IOSRO4Sh"
   },
   "source": [
    "Outliers and extreme data values can significantly impact logistic regression models."
   ]
  },
  {
   "cell_type": "markdown",
   "metadata": {
    "id": "rIcDG2e66wt9"
   },
   "source": [
    "### **Task 2a. Explore data with EDA**\n",
    "\n",
    "Analyze and discover data, looking for correlations, missing data, potential outliers, and/or duplicates.\n",
    "\n"
   ]
  },
  {
   "cell_type": "markdown",
   "metadata": {
    "id": "offDH5p62x73"
   },
   "source": [
    "Start with `.shape` and `info()`."
   ]
  },
  {
   "cell_type": "code",
   "execution_count": 40,
   "metadata": {
    "id": "T4Ag-sZhWg6K"
   },
   "outputs": [
    {
     "name": "stdout",
     "output_type": "stream",
     "text": [
      "(14999, 13)\n",
      "<class 'pandas.core.frame.DataFrame'>\n",
      "RangeIndex: 14999 entries, 0 to 14998\n",
      "Data columns (total 13 columns):\n",
      " #   Column                   Non-Null Count  Dtype  \n",
      "---  ------                   --------------  -----  \n",
      " 0   ID                       14999 non-null  int64  \n",
      " 1   label                    14299 non-null  object \n",
      " 2   sessions                 14999 non-null  int64  \n",
      " 3   drives                   14999 non-null  int64  \n",
      " 4   total_sessions           14999 non-null  float64\n",
      " 5   n_days_after_onboarding  14999 non-null  int64  \n",
      " 6   total_navigations_fav1   14999 non-null  int64  \n",
      " 7   total_navigations_fav2   14999 non-null  int64  \n",
      " 8   driven_km_drives         14999 non-null  float64\n",
      " 9   duration_minutes_drives  14999 non-null  float64\n",
      " 10  activity_days            14999 non-null  int64  \n",
      " 11  driving_days             14999 non-null  int64  \n",
      " 12  device                   14999 non-null  object \n",
      "dtypes: float64(3), int64(8), object(2)\n",
      "memory usage: 1.5+ MB\n"
     ]
    }
   ],
   "source": [
    "print(df.shape)\n",
    "\n",
    "df.info()\n",
    "### YOUR CODE HERE ###"
   ]
  },
  {
   "cell_type": "markdown",
   "metadata": {
    "id": "Ut0mWpGG6mkh"
   },
   "source": [
    "**Question:** Are there any missing values in your data?"
   ]
  },
  {
   "cell_type": "markdown",
   "metadata": {
    "id": "fSZgL1Eseep6"
   },
   "source": [
    "Label is missing 700 values"
   ]
  },
  {
   "cell_type": "markdown",
   "metadata": {
    "id": "ZCNi5-Ur2_en"
   },
   "source": [
    "Use `.head()`.\n",
    "\n"
   ]
  },
  {
   "cell_type": "code",
   "execution_count": 41,
   "metadata": {
    "id": "ll2pxoClXgmx"
   },
   "outputs": [
    {
     "data": {
      "text/html": [
       "<div>\n",
       "<style scoped>\n",
       "    .dataframe tbody tr th:only-of-type {\n",
       "        vertical-align: middle;\n",
       "    }\n",
       "\n",
       "    .dataframe tbody tr th {\n",
       "        vertical-align: top;\n",
       "    }\n",
       "\n",
       "    .dataframe thead th {\n",
       "        text-align: right;\n",
       "    }\n",
       "</style>\n",
       "<table border=\"1\" class=\"dataframe\">\n",
       "  <thead>\n",
       "    <tr style=\"text-align: right;\">\n",
       "      <th></th>\n",
       "      <th>ID</th>\n",
       "      <th>label</th>\n",
       "      <th>sessions</th>\n",
       "      <th>drives</th>\n",
       "      <th>total_sessions</th>\n",
       "      <th>n_days_after_onboarding</th>\n",
       "      <th>total_navigations_fav1</th>\n",
       "      <th>total_navigations_fav2</th>\n",
       "      <th>driven_km_drives</th>\n",
       "      <th>duration_minutes_drives</th>\n",
       "      <th>activity_days</th>\n",
       "      <th>driving_days</th>\n",
       "      <th>device</th>\n",
       "    </tr>\n",
       "  </thead>\n",
       "  <tbody>\n",
       "    <tr>\n",
       "      <th>0</th>\n",
       "      <td>0</td>\n",
       "      <td>retained</td>\n",
       "      <td>283</td>\n",
       "      <td>226</td>\n",
       "      <td>296.748273</td>\n",
       "      <td>2276</td>\n",
       "      <td>208</td>\n",
       "      <td>0</td>\n",
       "      <td>2628.845068</td>\n",
       "      <td>1985.775061</td>\n",
       "      <td>28</td>\n",
       "      <td>19</td>\n",
       "      <td>Android</td>\n",
       "    </tr>\n",
       "    <tr>\n",
       "      <th>1</th>\n",
       "      <td>1</td>\n",
       "      <td>retained</td>\n",
       "      <td>133</td>\n",
       "      <td>107</td>\n",
       "      <td>326.896596</td>\n",
       "      <td>1225</td>\n",
       "      <td>19</td>\n",
       "      <td>64</td>\n",
       "      <td>13715.920550</td>\n",
       "      <td>3160.472914</td>\n",
       "      <td>13</td>\n",
       "      <td>11</td>\n",
       "      <td>iPhone</td>\n",
       "    </tr>\n",
       "    <tr>\n",
       "      <th>2</th>\n",
       "      <td>2</td>\n",
       "      <td>retained</td>\n",
       "      <td>114</td>\n",
       "      <td>95</td>\n",
       "      <td>135.522926</td>\n",
       "      <td>2651</td>\n",
       "      <td>0</td>\n",
       "      <td>0</td>\n",
       "      <td>3059.148818</td>\n",
       "      <td>1610.735904</td>\n",
       "      <td>14</td>\n",
       "      <td>8</td>\n",
       "      <td>Android</td>\n",
       "    </tr>\n",
       "    <tr>\n",
       "      <th>3</th>\n",
       "      <td>3</td>\n",
       "      <td>retained</td>\n",
       "      <td>49</td>\n",
       "      <td>40</td>\n",
       "      <td>67.589221</td>\n",
       "      <td>15</td>\n",
       "      <td>322</td>\n",
       "      <td>7</td>\n",
       "      <td>913.591123</td>\n",
       "      <td>587.196542</td>\n",
       "      <td>7</td>\n",
       "      <td>3</td>\n",
       "      <td>iPhone</td>\n",
       "    </tr>\n",
       "    <tr>\n",
       "      <th>4</th>\n",
       "      <td>4</td>\n",
       "      <td>retained</td>\n",
       "      <td>84</td>\n",
       "      <td>68</td>\n",
       "      <td>168.247020</td>\n",
       "      <td>1562</td>\n",
       "      <td>166</td>\n",
       "      <td>5</td>\n",
       "      <td>3950.202008</td>\n",
       "      <td>1219.555924</td>\n",
       "      <td>27</td>\n",
       "      <td>18</td>\n",
       "      <td>Android</td>\n",
       "    </tr>\n",
       "  </tbody>\n",
       "</table>\n",
       "</div>"
      ],
      "text/plain": [
       "   ID     label  sessions  drives  total_sessions  n_days_after_onboarding  \\\n",
       "0   0  retained       283     226      296.748273                     2276   \n",
       "1   1  retained       133     107      326.896596                     1225   \n",
       "2   2  retained       114      95      135.522926                     2651   \n",
       "3   3  retained        49      40       67.589221                       15   \n",
       "4   4  retained        84      68      168.247020                     1562   \n",
       "\n",
       "   total_navigations_fav1  total_navigations_fav2  driven_km_drives  \\\n",
       "0                     208                       0       2628.845068   \n",
       "1                      19                      64      13715.920550   \n",
       "2                       0                       0       3059.148818   \n",
       "3                     322                       7        913.591123   \n",
       "4                     166                       5       3950.202008   \n",
       "\n",
       "   duration_minutes_drives  activity_days  driving_days   device  \n",
       "0              1985.775061             28            19  Android  \n",
       "1              3160.472914             13            11   iPhone  \n",
       "2              1610.735904             14             8  Android  \n",
       "3               587.196542              7             3   iPhone  \n",
       "4              1219.555924             27            18  Android  "
      ]
     },
     "execution_count": 41,
     "metadata": {},
     "output_type": "execute_result"
    }
   ],
   "source": [
    "### YOUR CODE HERE ###\n",
    "df.head()"
   ]
  },
  {
   "cell_type": "markdown",
   "metadata": {
    "id": "mT1h-utWs7ow"
   },
   "source": [
    "Use `.drop()` to remove the ID column since we don't need this information for your analysis."
   ]
  },
  {
   "cell_type": "code",
   "execution_count": 42,
   "metadata": {
    "id": "CZK6D8kls9cj"
   },
   "outputs": [],
   "source": [
    "### YOUR CODE HERE ###\n",
    "df = df.drop('ID', axis=1)"
   ]
  },
  {
   "cell_type": "markdown",
   "metadata": {
    "id": "eXn6VVNO7ArZ"
   },
   "source": [
    "Now, check the class balance of the dependent (target) variable, `label`."
   ]
  },
  {
   "cell_type": "code",
   "execution_count": 43,
   "metadata": {
    "id": "UCN_-mH87DwP"
   },
   "outputs": [
    {
     "data": {
      "text/plain": [
       "retained    0.822645\n",
       "churned     0.177355\n",
       "Name: label, dtype: float64"
      ]
     },
     "execution_count": 43,
     "metadata": {},
     "output_type": "execute_result"
    }
   ],
   "source": [
    "### YOUR CODE HERE ###\n",
    "df['label'].value_counts(normalize=True)"
   ]
  },
  {
   "cell_type": "markdown",
   "metadata": {
    "id": "pcEIBLGcIbGa"
   },
   "source": [
    "Call `.describe()` on the data.\n"
   ]
  },
  {
   "cell_type": "code",
   "execution_count": 44,
   "metadata": {
    "id": "AjcSoFeVIhYf"
   },
   "outputs": [
    {
     "data": {
      "text/html": [
       "<div>\n",
       "<style scoped>\n",
       "    .dataframe tbody tr th:only-of-type {\n",
       "        vertical-align: middle;\n",
       "    }\n",
       "\n",
       "    .dataframe tbody tr th {\n",
       "        vertical-align: top;\n",
       "    }\n",
       "\n",
       "    .dataframe thead th {\n",
       "        text-align: right;\n",
       "    }\n",
       "</style>\n",
       "<table border=\"1\" class=\"dataframe\">\n",
       "  <thead>\n",
       "    <tr style=\"text-align: right;\">\n",
       "      <th></th>\n",
       "      <th>sessions</th>\n",
       "      <th>drives</th>\n",
       "      <th>total_sessions</th>\n",
       "      <th>n_days_after_onboarding</th>\n",
       "      <th>total_navigations_fav1</th>\n",
       "      <th>total_navigations_fav2</th>\n",
       "      <th>driven_km_drives</th>\n",
       "      <th>duration_minutes_drives</th>\n",
       "      <th>activity_days</th>\n",
       "      <th>driving_days</th>\n",
       "    </tr>\n",
       "  </thead>\n",
       "  <tbody>\n",
       "    <tr>\n",
       "      <th>count</th>\n",
       "      <td>14999.000000</td>\n",
       "      <td>14999.000000</td>\n",
       "      <td>14999.000000</td>\n",
       "      <td>14999.000000</td>\n",
       "      <td>14999.000000</td>\n",
       "      <td>14999.000000</td>\n",
       "      <td>14999.000000</td>\n",
       "      <td>14999.000000</td>\n",
       "      <td>14999.000000</td>\n",
       "      <td>14999.000000</td>\n",
       "    </tr>\n",
       "    <tr>\n",
       "      <th>mean</th>\n",
       "      <td>80.633776</td>\n",
       "      <td>67.281152</td>\n",
       "      <td>189.964447</td>\n",
       "      <td>1749.837789</td>\n",
       "      <td>121.605974</td>\n",
       "      <td>29.672512</td>\n",
       "      <td>4039.340921</td>\n",
       "      <td>1860.976012</td>\n",
       "      <td>15.537102</td>\n",
       "      <td>12.179879</td>\n",
       "    </tr>\n",
       "    <tr>\n",
       "      <th>std</th>\n",
       "      <td>80.699065</td>\n",
       "      <td>65.913872</td>\n",
       "      <td>136.405128</td>\n",
       "      <td>1008.513876</td>\n",
       "      <td>148.121544</td>\n",
       "      <td>45.394651</td>\n",
       "      <td>2502.149334</td>\n",
       "      <td>1446.702288</td>\n",
       "      <td>9.004655</td>\n",
       "      <td>7.824036</td>\n",
       "    </tr>\n",
       "    <tr>\n",
       "      <th>min</th>\n",
       "      <td>0.000000</td>\n",
       "      <td>0.000000</td>\n",
       "      <td>0.220211</td>\n",
       "      <td>4.000000</td>\n",
       "      <td>0.000000</td>\n",
       "      <td>0.000000</td>\n",
       "      <td>60.441250</td>\n",
       "      <td>18.282082</td>\n",
       "      <td>0.000000</td>\n",
       "      <td>0.000000</td>\n",
       "    </tr>\n",
       "    <tr>\n",
       "      <th>25%</th>\n",
       "      <td>23.000000</td>\n",
       "      <td>20.000000</td>\n",
       "      <td>90.661156</td>\n",
       "      <td>878.000000</td>\n",
       "      <td>9.000000</td>\n",
       "      <td>0.000000</td>\n",
       "      <td>2212.600607</td>\n",
       "      <td>835.996260</td>\n",
       "      <td>8.000000</td>\n",
       "      <td>5.000000</td>\n",
       "    </tr>\n",
       "    <tr>\n",
       "      <th>50%</th>\n",
       "      <td>56.000000</td>\n",
       "      <td>48.000000</td>\n",
       "      <td>159.568115</td>\n",
       "      <td>1741.000000</td>\n",
       "      <td>71.000000</td>\n",
       "      <td>9.000000</td>\n",
       "      <td>3493.858085</td>\n",
       "      <td>1478.249859</td>\n",
       "      <td>16.000000</td>\n",
       "      <td>12.000000</td>\n",
       "    </tr>\n",
       "    <tr>\n",
       "      <th>75%</th>\n",
       "      <td>112.000000</td>\n",
       "      <td>93.000000</td>\n",
       "      <td>254.192341</td>\n",
       "      <td>2623.500000</td>\n",
       "      <td>178.000000</td>\n",
       "      <td>43.000000</td>\n",
       "      <td>5289.861262</td>\n",
       "      <td>2464.362632</td>\n",
       "      <td>23.000000</td>\n",
       "      <td>19.000000</td>\n",
       "    </tr>\n",
       "    <tr>\n",
       "      <th>max</th>\n",
       "      <td>743.000000</td>\n",
       "      <td>596.000000</td>\n",
       "      <td>1216.154633</td>\n",
       "      <td>3500.000000</td>\n",
       "      <td>1236.000000</td>\n",
       "      <td>415.000000</td>\n",
       "      <td>21183.401890</td>\n",
       "      <td>15851.727160</td>\n",
       "      <td>31.000000</td>\n",
       "      <td>30.000000</td>\n",
       "    </tr>\n",
       "  </tbody>\n",
       "</table>\n",
       "</div>"
      ],
      "text/plain": [
       "           sessions        drives  total_sessions  n_days_after_onboarding  \\\n",
       "count  14999.000000  14999.000000    14999.000000             14999.000000   \n",
       "mean      80.633776     67.281152      189.964447              1749.837789   \n",
       "std       80.699065     65.913872      136.405128              1008.513876   \n",
       "min        0.000000      0.000000        0.220211                 4.000000   \n",
       "25%       23.000000     20.000000       90.661156               878.000000   \n",
       "50%       56.000000     48.000000      159.568115              1741.000000   \n",
       "75%      112.000000     93.000000      254.192341              2623.500000   \n",
       "max      743.000000    596.000000     1216.154633              3500.000000   \n",
       "\n",
       "       total_navigations_fav1  total_navigations_fav2  driven_km_drives  \\\n",
       "count            14999.000000            14999.000000      14999.000000   \n",
       "mean               121.605974               29.672512       4039.340921   \n",
       "std                148.121544               45.394651       2502.149334   \n",
       "min                  0.000000                0.000000         60.441250   \n",
       "25%                  9.000000                0.000000       2212.600607   \n",
       "50%                 71.000000                9.000000       3493.858085   \n",
       "75%                178.000000               43.000000       5289.861262   \n",
       "max               1236.000000              415.000000      21183.401890   \n",
       "\n",
       "       duration_minutes_drives  activity_days  driving_days  \n",
       "count             14999.000000   14999.000000  14999.000000  \n",
       "mean               1860.976012      15.537102     12.179879  \n",
       "std                1446.702288       9.004655      7.824036  \n",
       "min                  18.282082       0.000000      0.000000  \n",
       "25%                 835.996260       8.000000      5.000000  \n",
       "50%                1478.249859      16.000000     12.000000  \n",
       "75%                2464.362632      23.000000     19.000000  \n",
       "max               15851.727160      31.000000     30.000000  "
      ]
     },
     "execution_count": 44,
     "metadata": {},
     "output_type": "execute_result"
    }
   ],
   "source": [
    "### YOUR CODE HERE ###\n",
    "df.describe()"
   ]
  },
  {
   "cell_type": "markdown",
   "metadata": {
    "id": "v3EPwXZH7KnT"
   },
   "source": [
    "**Question:** Are there any variables that could potentially have outliers just by assessing at the quartile values, standard deviation, and max values?"
   ]
  },
  {
   "cell_type": "markdown",
   "metadata": {
    "id": "DjmTTz3YfgmA"
   },
   "source": [
    "Almost all of them seem to have some sort of outlier. Total_sessions, drives, total navigations f1 and f2, driven_km_drives and duration minutes. I'm assuming these are all related to the same driver who is inflating the driving value."
   ]
  },
  {
   "cell_type": "markdown",
   "metadata": {
    "id": "hl8G_0FR6Rvk"
   },
   "source": [
    "### **Task 2b. Create features**\n",
    "\n",
    "Create features that may be of interest to the stakeholder and/or that are needed to address the business scenario/problem."
   ]
  },
  {
   "cell_type": "markdown",
   "metadata": {
    "id": "pKkx6FvS4OpI"
   },
   "source": [
    "#### **`km_per_driving_day`**\n",
    "\n",
    "You know from earlier EDA that churn rate correlates with distance driven per driving day in the last month. It might be helpful to engineer a feature that captures this information.\n",
    "\n",
    "1. Create a new column in `df` called `km_per_driving_day`, which represents the mean distance driven per driving day for each user.\n",
    "\n",
    "2. Call the `describe()` method on the new column."
   ]
  },
  {
   "cell_type": "code",
   "execution_count": 45,
   "metadata": {
    "id": "KCEzE-gwL5gq"
   },
   "outputs": [
    {
     "data": {
      "text/plain": [
       "0         138.360267\n",
       "1        1246.901868\n",
       "2         382.393602\n",
       "3         304.530374\n",
       "4         219.455667\n",
       "            ...     \n",
       "14994     170.029229\n",
       "14995     203.128760\n",
       "14996     182.225002\n",
       "14997     675.293092\n",
       "14998     463.884521\n",
       "Name: km_per_driving_day, Length: 14999, dtype: float64"
      ]
     },
     "execution_count": 45,
     "metadata": {},
     "output_type": "execute_result"
    }
   ],
   "source": [
    "# 1. Create `km_per_driving_day` column\n",
    "### YOUR CODE HERE ###\n",
    "df['km_per_driving_day'] = df['driven_km_drives'] / df['driving_days']\n",
    "# 2. Call `describe()` on the new column\n",
    "### YOUR CODE HERE ###\n",
    "df['km_per_driving_day']"
   ]
  },
  {
   "cell_type": "markdown",
   "metadata": {
    "id": "6Ldmks6g4ZzE"
   },
   "source": [
    "Note that some values are infinite. This is the result of there being values of zero in the `driving_days` column. Pandas imputes a value of infinity in the corresponding rows of the new column because division by zero is undefined.\n",
    "\n",
    "1. Convert these values from infinity to zero. You can use `np.inf` to refer to a value of infinity.\n",
    "\n",
    "2. Call `describe()` on the `km_per_driving_day` column to verify that it worked."
   ]
  },
  {
   "cell_type": "code",
   "execution_count": 46,
   "metadata": {
    "id": "FetTHatPoR6n"
   },
   "outputs": [
    {
     "data": {
      "text/plain": [
       "count    14999.000000\n",
       "mean       578.963113\n",
       "std       1030.094384\n",
       "min          0.000000\n",
       "25%        136.238895\n",
       "50%        272.889272\n",
       "75%        558.686918\n",
       "max      15420.234110\n",
       "Name: km_per_driving_day, dtype: float64"
      ]
     },
     "execution_count": 46,
     "metadata": {},
     "output_type": "execute_result"
    }
   ],
   "source": [
    "# 1. Convert infinite values to zero\n",
    "#never even knew of this one, not sure how we got infinity\n",
    "df.loc[df['km_per_driving_day']==np.inf, 'km_per_driving_day'] = 0\n",
    "\n",
    "# 2. Confirm that it worked\n",
    "df['km_per_driving_day'].describe()"
   ]
  },
  {
   "cell_type": "markdown",
   "metadata": {
    "id": "ky5h_Aum3RK1"
   },
   "source": [
    "#### **`professional_driver`**\n",
    "\n",
    "Create a new, binary feature called `professional_driver` that is a 1 for users who had 60 or more drives <u>**and**</u> drove on 15+ days in the last month.\n",
    "\n",
    "**Note:** The objective is to create a new feature that separates professional drivers from other drivers. In this scenario, domain knowledge and intuition are used to determine these deciding thresholds, but ultimately they are arbitrary."
   ]
  },
  {
   "cell_type": "markdown",
   "metadata": {
    "id": "ml0Y6mb--HD5"
   },
   "source": [
    "To create this column, use the [`np.where()`](https://numpy.org/doc/stable/reference/generated/numpy.where.html) function. This function accepts as arguments:\n",
    "1. A condition\n",
    "2. What to return when the condition is true\n",
    "3. What to return when the condition is false\n",
    "\n",
    "```\n",
    "Example:\n",
    "x = [1, 2, 3]\n",
    "x = np.where(x > 2, 100, 0)\n",
    "x\n",
    "array([  0,   0, 100])\n",
    "```"
   ]
  },
  {
   "cell_type": "code",
   "execution_count": 47,
   "metadata": {
    "id": "huWmzNp2Xj8o"
   },
   "outputs": [],
   "source": [
    "# Create `professional_driver` column\n",
    "### YOUR CODE HERE ###\n",
    "df['professional_driver'] = np.where((df['drives'] >= 60) & (df['driving_days'] >= 15), 1, 0)"
   ]
  },
  {
   "cell_type": "markdown",
   "metadata": {
    "id": "Sq1WCqLmaHSU"
   },
   "source": [
    "Perform a quick inspection of the new variable.\n",
    "\n",
    "1. Check the count of professional drivers and non-professionals\n",
    "\n",
    "2. Within each class (professional and non-professional) calculate the churn rate"
   ]
  },
  {
   "cell_type": "code",
   "execution_count": 48,
   "metadata": {
    "id": "jCAvucIVa3jE"
   },
   "outputs": [
    {
     "name": "stdout",
     "output_type": "stream",
     "text": [
      "0    12405\n",
      "1     2594\n",
      "Name: professional_driver, dtype: int64\n"
     ]
    },
    {
     "data": {
      "text/plain": [
       "professional_driver  label   \n",
       "0                    retained    0.801202\n",
       "                     churned     0.198798\n",
       "1                    retained    0.924437\n",
       "                     churned     0.075563\n",
       "Name: label, dtype: float64"
      ]
     },
     "execution_count": 48,
     "metadata": {},
     "output_type": "execute_result"
    }
   ],
   "source": [
    "# 1. Check count of professionals and non-professionals\n",
    "print(df['professional_driver'].value_counts())\n",
    "\n",
    "# 2. Check in-class churn rate\n",
    "df.groupby(['professional_driver'])['label'].value_counts(normalize=True)"
   ]
  },
  {
   "cell_type": "markdown",
   "metadata": {
    "id": "P7kHbF4m-ZXA"
   },
   "source": [
    "The churn rate for professional drivers is 7.6%, while the churn rate for non-professionals is 19.9%. This seems like it could add predictive signal to the model."
   ]
  },
  {
   "cell_type": "markdown",
   "metadata": {
    "id": "lgPul2DiY6T4"
   },
   "source": [
    "<img src=\"images/Construct.png\" width=\"100\" height=\"100\" align=left>\n",
    "\n",
    "## **PACE: Construct**\n",
    "\n",
    "After analysis and deriving variables with close relationships, it is time to begin constructing the model.\n",
    "\n",
    "Consider the questions in your PACE Strategy Document to reflect on the Construct stage.\n",
    "\n",
    "In this stage, consider the following question:\n",
    "\n",
    "* Why did you select the X variables you did?"
   ]
  },
  {
   "cell_type": "markdown",
   "metadata": {
    "id": "nZi2G9pkQ_kM"
   },
   "source": [
    "Based on the business objective and what we found in the earlier EDA."
   ]
  },
  {
   "cell_type": "markdown",
   "metadata": {
    "id": "07UJJm41ajgf"
   },
   "source": [
    "### **Task 3a. Preparing variables**"
   ]
  },
  {
   "cell_type": "markdown",
   "metadata": {
    "id": "aanTG0VxniQh"
   },
   "source": [
    "Call `info()` on the dataframe to check the data type of the `label` variable and to verify if there are any missing values."
   ]
  },
  {
   "cell_type": "code",
   "execution_count": 49,
   "metadata": {
    "id": "tHFNCNj3ob30"
   },
   "outputs": [
    {
     "name": "stdout",
     "output_type": "stream",
     "text": [
      "<class 'pandas.core.frame.DataFrame'>\n",
      "RangeIndex: 14999 entries, 0 to 14998\n",
      "Data columns (total 14 columns):\n",
      " #   Column                   Non-Null Count  Dtype  \n",
      "---  ------                   --------------  -----  \n",
      " 0   label                    14299 non-null  object \n",
      " 1   sessions                 14999 non-null  int64  \n",
      " 2   drives                   14999 non-null  int64  \n",
      " 3   total_sessions           14999 non-null  float64\n",
      " 4   n_days_after_onboarding  14999 non-null  int64  \n",
      " 5   total_navigations_fav1   14999 non-null  int64  \n",
      " 6   total_navigations_fav2   14999 non-null  int64  \n",
      " 7   driven_km_drives         14999 non-null  float64\n",
      " 8   duration_minutes_drives  14999 non-null  float64\n",
      " 9   activity_days            14999 non-null  int64  \n",
      " 10  driving_days             14999 non-null  int64  \n",
      " 11  device                   14999 non-null  object \n",
      " 12  km_per_driving_day       14999 non-null  float64\n",
      " 13  professional_driver      14999 non-null  int64  \n",
      "dtypes: float64(4), int64(8), object(2)\n",
      "memory usage: 1.6+ MB\n"
     ]
    }
   ],
   "source": [
    "### YOUR CODE HERE ###\n",
    "df.info()"
   ]
  },
  {
   "cell_type": "markdown",
   "metadata": {
    "id": "J90QgkTrofOC"
   },
   "source": [
    "Because you know from previous EDA that there is no evidence of a non-random cause of the 700 missing values in the `label` column, and because these observations comprise less than 5% of the data, use the `dropna()` method to drop the rows that are missing this data."
   ]
  },
  {
   "cell_type": "code",
   "execution_count": 50,
   "metadata": {
    "id": "B34fDk52o2Uk"
   },
   "outputs": [],
   "source": [
    "# Drop rows with missing data in `label` column\n",
    "### YOUR CODE HERE ###\n",
    "df = df.dropna(subset=['label'])"
   ]
  },
  {
   "cell_type": "markdown",
   "metadata": {
    "id": "UV3KLq7LpcWB"
   },
   "source": [
    "#### **Impute outliers**\n",
    "\n",
    "You rarely want to drop outliers, and generally will not do so unless there is a clear reason for it (e.g., typographic errors).\n",
    "\n",
    "At times outliers can be changed to the **median, mean, 95th percentile, etc.**\n",
    "\n",
    "Previously, you determined that seven of the variables had clear signs of containing outliers:\n",
    "\n",
    "* `sessions`\n",
    "* `drives`\n",
    "* `total_sessions`\n",
    "* `total_navigations_fav1`\n",
    "* `total_navigations_fav2`\n",
    "* `driven_km_drives`\n",
    "* `duration_minutes_drives`\n",
    "\n",
    "For this analysis, impute the outlying values for these columns. Calculate the **95th percentile** of each column and change to this value any value in the column that exceeds it.\n"
   ]
  },
  {
   "cell_type": "code",
   "execution_count": 51,
   "metadata": {
    "id": "7fRaU2JKpyXg"
   },
   "outputs": [],
   "source": [
    "# Impute outliers\n",
    "### YOUR CODE HERE ###\n",
    "#same code as the other one from autimadata\n",
    "for column in ['sessions', 'drives', 'total_sessions', 'total_navigations_fav1',\n",
    "               'total_navigations_fav2', 'driven_km_drives', 'duration_minutes_drives']:\n",
    "    threshold = df[column].quantile(0.95)\n",
    "    df.loc[df[column] > threshold, column] = threshold"
   ]
  },
  {
   "cell_type": "markdown",
   "metadata": {
    "id": "90s91HTOAqnT"
   },
   "source": [
    "Call `describe()`."
   ]
  },
  {
   "cell_type": "code",
   "execution_count": 52,
   "metadata": {
    "id": "aU13ZoCMAN_s"
   },
   "outputs": [
    {
     "data": {
      "text/html": [
       "<div>\n",
       "<style scoped>\n",
       "    .dataframe tbody tr th:only-of-type {\n",
       "        vertical-align: middle;\n",
       "    }\n",
       "\n",
       "    .dataframe tbody tr th {\n",
       "        vertical-align: top;\n",
       "    }\n",
       "\n",
       "    .dataframe thead th {\n",
       "        text-align: right;\n",
       "    }\n",
       "</style>\n",
       "<table border=\"1\" class=\"dataframe\">\n",
       "  <thead>\n",
       "    <tr style=\"text-align: right;\">\n",
       "      <th></th>\n",
       "      <th>sessions</th>\n",
       "      <th>drives</th>\n",
       "      <th>total_sessions</th>\n",
       "      <th>n_days_after_onboarding</th>\n",
       "      <th>total_navigations_fav1</th>\n",
       "      <th>total_navigations_fav2</th>\n",
       "      <th>driven_km_drives</th>\n",
       "      <th>duration_minutes_drives</th>\n",
       "      <th>activity_days</th>\n",
       "      <th>driving_days</th>\n",
       "      <th>km_per_driving_day</th>\n",
       "      <th>professional_driver</th>\n",
       "    </tr>\n",
       "  </thead>\n",
       "  <tbody>\n",
       "    <tr>\n",
       "      <th>count</th>\n",
       "      <td>14299.000000</td>\n",
       "      <td>14299.000000</td>\n",
       "      <td>14299.000000</td>\n",
       "      <td>14299.000000</td>\n",
       "      <td>14299.000000</td>\n",
       "      <td>14299.000000</td>\n",
       "      <td>14299.000000</td>\n",
       "      <td>14299.000000</td>\n",
       "      <td>14299.000000</td>\n",
       "      <td>14299.000000</td>\n",
       "      <td>14299.000000</td>\n",
       "      <td>14299.000000</td>\n",
       "    </tr>\n",
       "    <tr>\n",
       "      <th>mean</th>\n",
       "      <td>76.539688</td>\n",
       "      <td>63.964683</td>\n",
       "      <td>183.717304</td>\n",
       "      <td>1751.822505</td>\n",
       "      <td>114.562767</td>\n",
       "      <td>27.187216</td>\n",
       "      <td>3944.558631</td>\n",
       "      <td>1792.911210</td>\n",
       "      <td>15.544653</td>\n",
       "      <td>12.182530</td>\n",
       "      <td>581.942399</td>\n",
       "      <td>0.173998</td>\n",
       "    </tr>\n",
       "    <tr>\n",
       "      <th>std</th>\n",
       "      <td>67.243178</td>\n",
       "      <td>55.127927</td>\n",
       "      <td>118.720520</td>\n",
       "      <td>1008.663834</td>\n",
       "      <td>124.378550</td>\n",
       "      <td>36.715302</td>\n",
       "      <td>2218.358258</td>\n",
       "      <td>1224.329759</td>\n",
       "      <td>9.016088</td>\n",
       "      <td>7.833835</td>\n",
       "      <td>1038.254509</td>\n",
       "      <td>0.379121</td>\n",
       "    </tr>\n",
       "    <tr>\n",
       "      <th>min</th>\n",
       "      <td>0.000000</td>\n",
       "      <td>0.000000</td>\n",
       "      <td>0.220211</td>\n",
       "      <td>4.000000</td>\n",
       "      <td>0.000000</td>\n",
       "      <td>0.000000</td>\n",
       "      <td>60.441250</td>\n",
       "      <td>18.282082</td>\n",
       "      <td>0.000000</td>\n",
       "      <td>0.000000</td>\n",
       "      <td>0.000000</td>\n",
       "      <td>0.000000</td>\n",
       "    </tr>\n",
       "    <tr>\n",
       "      <th>25%</th>\n",
       "      <td>23.000000</td>\n",
       "      <td>20.000000</td>\n",
       "      <td>90.457733</td>\n",
       "      <td>878.500000</td>\n",
       "      <td>10.000000</td>\n",
       "      <td>0.000000</td>\n",
       "      <td>2217.319909</td>\n",
       "      <td>840.181344</td>\n",
       "      <td>8.000000</td>\n",
       "      <td>5.000000</td>\n",
       "      <td>136.168003</td>\n",
       "      <td>0.000000</td>\n",
       "    </tr>\n",
       "    <tr>\n",
       "      <th>50%</th>\n",
       "      <td>56.000000</td>\n",
       "      <td>48.000000</td>\n",
       "      <td>158.718571</td>\n",
       "      <td>1749.000000</td>\n",
       "      <td>71.000000</td>\n",
       "      <td>9.000000</td>\n",
       "      <td>3496.545617</td>\n",
       "      <td>1479.394387</td>\n",
       "      <td>16.000000</td>\n",
       "      <td>12.000000</td>\n",
       "      <td>273.301012</td>\n",
       "      <td>0.000000</td>\n",
       "    </tr>\n",
       "    <tr>\n",
       "      <th>75%</th>\n",
       "      <td>111.000000</td>\n",
       "      <td>93.000000</td>\n",
       "      <td>253.540450</td>\n",
       "      <td>2627.500000</td>\n",
       "      <td>178.000000</td>\n",
       "      <td>43.000000</td>\n",
       "      <td>5299.972162</td>\n",
       "      <td>2466.928876</td>\n",
       "      <td>23.000000</td>\n",
       "      <td>19.000000</td>\n",
       "      <td>558.018761</td>\n",
       "      <td>0.000000</td>\n",
       "    </tr>\n",
       "    <tr>\n",
       "      <th>max</th>\n",
       "      <td>243.000000</td>\n",
       "      <td>200.000000</td>\n",
       "      <td>455.439492</td>\n",
       "      <td>3500.000000</td>\n",
       "      <td>422.000000</td>\n",
       "      <td>124.000000</td>\n",
       "      <td>8898.716275</td>\n",
       "      <td>4668.180092</td>\n",
       "      <td>31.000000</td>\n",
       "      <td>30.000000</td>\n",
       "      <td>15420.234110</td>\n",
       "      <td>1.000000</td>\n",
       "    </tr>\n",
       "  </tbody>\n",
       "</table>\n",
       "</div>"
      ],
      "text/plain": [
       "           sessions        drives  total_sessions  n_days_after_onboarding  \\\n",
       "count  14299.000000  14299.000000    14299.000000             14299.000000   \n",
       "mean      76.539688     63.964683      183.717304              1751.822505   \n",
       "std       67.243178     55.127927      118.720520              1008.663834   \n",
       "min        0.000000      0.000000        0.220211                 4.000000   \n",
       "25%       23.000000     20.000000       90.457733               878.500000   \n",
       "50%       56.000000     48.000000      158.718571              1749.000000   \n",
       "75%      111.000000     93.000000      253.540450              2627.500000   \n",
       "max      243.000000    200.000000      455.439492              3500.000000   \n",
       "\n",
       "       total_navigations_fav1  total_navigations_fav2  driven_km_drives  \\\n",
       "count            14299.000000            14299.000000      14299.000000   \n",
       "mean               114.562767               27.187216       3944.558631   \n",
       "std                124.378550               36.715302       2218.358258   \n",
       "min                  0.000000                0.000000         60.441250   \n",
       "25%                 10.000000                0.000000       2217.319909   \n",
       "50%                 71.000000                9.000000       3496.545617   \n",
       "75%                178.000000               43.000000       5299.972162   \n",
       "max                422.000000              124.000000       8898.716275   \n",
       "\n",
       "       duration_minutes_drives  activity_days  driving_days  \\\n",
       "count             14299.000000   14299.000000  14299.000000   \n",
       "mean               1792.911210      15.544653     12.182530   \n",
       "std                1224.329759       9.016088      7.833835   \n",
       "min                  18.282082       0.000000      0.000000   \n",
       "25%                 840.181344       8.000000      5.000000   \n",
       "50%                1479.394387      16.000000     12.000000   \n",
       "75%                2466.928876      23.000000     19.000000   \n",
       "max                4668.180092      31.000000     30.000000   \n",
       "\n",
       "       km_per_driving_day  professional_driver  \n",
       "count        14299.000000         14299.000000  \n",
       "mean           581.942399             0.173998  \n",
       "std           1038.254509             0.379121  \n",
       "min              0.000000             0.000000  \n",
       "25%            136.168003             0.000000  \n",
       "50%            273.301012             0.000000  \n",
       "75%            558.018761             0.000000  \n",
       "max          15420.234110             1.000000  "
      ]
     },
     "execution_count": 52,
     "metadata": {},
     "output_type": "execute_result"
    }
   ],
   "source": [
    "### YOUR CODE HERE ###\n",
    "df.describe()"
   ]
  },
  {
   "cell_type": "markdown",
   "metadata": {
    "id": "E9dLJfBHAxNy"
   },
   "source": [
    "#### **Encode categorical variables**"
   ]
  },
  {
   "cell_type": "markdown",
   "metadata": {
    "id": "RksGqJI3A7L9"
   },
   "source": [
    "Change the data type of the `label` column to be binary. This change is needed to train a logistic regression model.\n",
    "\n",
    "Assign a `0` for all `retained` users.\n",
    "\n",
    "Assign a `1` for all `churned` users.\n",
    "\n",
    "Save this variable as `label2` as to not overwrite the original `label` variable.\n",
    "\n",
    "**Note:** There are many ways to do this. Consider using `np.where()` as you did earlier in this notebook."
   ]
  },
  {
   "cell_type": "code",
   "execution_count": 53,
   "metadata": {
    "id": "XvcP3FxpAyws"
   },
   "outputs": [
    {
     "data": {
      "text/html": [
       "<div>\n",
       "<style scoped>\n",
       "    .dataframe tbody tr th:only-of-type {\n",
       "        vertical-align: middle;\n",
       "    }\n",
       "\n",
       "    .dataframe tbody tr th {\n",
       "        vertical-align: top;\n",
       "    }\n",
       "\n",
       "    .dataframe thead th {\n",
       "        text-align: right;\n",
       "    }\n",
       "</style>\n",
       "<table border=\"1\" class=\"dataframe\">\n",
       "  <thead>\n",
       "    <tr style=\"text-align: right;\">\n",
       "      <th></th>\n",
       "      <th>label</th>\n",
       "      <th>label2</th>\n",
       "    </tr>\n",
       "  </thead>\n",
       "  <tbody>\n",
       "    <tr>\n",
       "      <th>14994</th>\n",
       "      <td>retained</td>\n",
       "      <td>0</td>\n",
       "    </tr>\n",
       "    <tr>\n",
       "      <th>14995</th>\n",
       "      <td>retained</td>\n",
       "      <td>0</td>\n",
       "    </tr>\n",
       "    <tr>\n",
       "      <th>14996</th>\n",
       "      <td>retained</td>\n",
       "      <td>0</td>\n",
       "    </tr>\n",
       "    <tr>\n",
       "      <th>14997</th>\n",
       "      <td>churned</td>\n",
       "      <td>1</td>\n",
       "    </tr>\n",
       "    <tr>\n",
       "      <th>14998</th>\n",
       "      <td>retained</td>\n",
       "      <td>0</td>\n",
       "    </tr>\n",
       "  </tbody>\n",
       "</table>\n",
       "</div>"
      ],
      "text/plain": [
       "          label  label2\n",
       "14994  retained       0\n",
       "14995  retained       0\n",
       "14996  retained       0\n",
       "14997   churned       1\n",
       "14998  retained       0"
      ]
     },
     "execution_count": 53,
     "metadata": {},
     "output_type": "execute_result"
    }
   ],
   "source": [
    "# Create binary `label2` column\n",
    "### YOUR CODE HERE ###\n",
    "df['label2'] = np.where(df['label']=='churned', 1, 0)\n",
    "df[['label', 'label2']].tail()"
   ]
  },
  {
   "cell_type": "markdown",
   "metadata": {
    "id": "HMj6QkK1cLmS"
   },
   "source": [
    "### **Task 3b. Determine whether assumptions have been met**\n",
    "\n",
    "The following are the assumptions for logistic regression:\n",
    "\n",
    "* Independent observations (This refers to how the data was collected.)\n",
    "\n",
    "* No extreme outliers\n",
    "\n",
    "* Little to no multicollinearity among X predictors\n",
    "\n",
    "* Linear relationship between X and the **logit** of y\n",
    "\n",
    "For the first assumption, you can assume that observations are independent for this project.\n",
    "\n",
    "The second assumption has already been addressed.\n",
    "\n",
    "The last assumption will be verified after modeling.\n",
    "\n",
    "**Note:** In practice, modeling assumptions are often violated, and depending on the specifics of your use case and the severity of the violation, it might not affect your model much at all or it will result in a failed model."
   ]
  },
  {
   "cell_type": "markdown",
   "metadata": {
    "id": "2VByuTmwdoi_"
   },
   "source": [
    "#### **Collinearity**\n",
    "\n",
    "Check the correlation among predictor variables. First, generate a correlation matrix."
   ]
  },
  {
   "cell_type": "code",
   "execution_count": 54,
   "metadata": {
    "id": "SClNm5hWotj6"
   },
   "outputs": [
    {
     "data": {
      "text/html": [
       "<div>\n",
       "<style scoped>\n",
       "    .dataframe tbody tr th:only-of-type {\n",
       "        vertical-align: middle;\n",
       "    }\n",
       "\n",
       "    .dataframe tbody tr th {\n",
       "        vertical-align: top;\n",
       "    }\n",
       "\n",
       "    .dataframe thead th {\n",
       "        text-align: right;\n",
       "    }\n",
       "</style>\n",
       "<table border=\"1\" class=\"dataframe\">\n",
       "  <thead>\n",
       "    <tr style=\"text-align: right;\">\n",
       "      <th></th>\n",
       "      <th>sessions</th>\n",
       "      <th>drives</th>\n",
       "      <th>total_sessions</th>\n",
       "      <th>n_days_after_onboarding</th>\n",
       "      <th>total_navigations_fav1</th>\n",
       "      <th>total_navigations_fav2</th>\n",
       "      <th>driven_km_drives</th>\n",
       "      <th>duration_minutes_drives</th>\n",
       "      <th>activity_days</th>\n",
       "      <th>driving_days</th>\n",
       "      <th>km_per_driving_day</th>\n",
       "      <th>professional_driver</th>\n",
       "      <th>label2</th>\n",
       "    </tr>\n",
       "  </thead>\n",
       "  <tbody>\n",
       "    <tr>\n",
       "      <th>sessions</th>\n",
       "      <td>1.000000</td>\n",
       "      <td>0.996942</td>\n",
       "      <td>0.597189</td>\n",
       "      <td>0.007101</td>\n",
       "      <td>0.001858</td>\n",
       "      <td>0.008536</td>\n",
       "      <td>0.002996</td>\n",
       "      <td>-0.004545</td>\n",
       "      <td>0.025113</td>\n",
       "      <td>0.020294</td>\n",
       "      <td>-0.011569</td>\n",
       "      <td>0.443654</td>\n",
       "      <td>0.034911</td>\n",
       "    </tr>\n",
       "    <tr>\n",
       "      <th>drives</th>\n",
       "      <td>0.996942</td>\n",
       "      <td>1.000000</td>\n",
       "      <td>0.595285</td>\n",
       "      <td>0.006940</td>\n",
       "      <td>0.001058</td>\n",
       "      <td>0.009505</td>\n",
       "      <td>0.003445</td>\n",
       "      <td>-0.003889</td>\n",
       "      <td>0.024357</td>\n",
       "      <td>0.019608</td>\n",
       "      <td>-0.010989</td>\n",
       "      <td>0.444425</td>\n",
       "      <td>0.035865</td>\n",
       "    </tr>\n",
       "    <tr>\n",
       "      <th>total_sessions</th>\n",
       "      <td>0.597189</td>\n",
       "      <td>0.595285</td>\n",
       "      <td>1.000000</td>\n",
       "      <td>0.006596</td>\n",
       "      <td>0.000187</td>\n",
       "      <td>0.010371</td>\n",
       "      <td>0.001016</td>\n",
       "      <td>-0.000338</td>\n",
       "      <td>0.015755</td>\n",
       "      <td>0.012953</td>\n",
       "      <td>-0.016167</td>\n",
       "      <td>0.254433</td>\n",
       "      <td>0.024568</td>\n",
       "    </tr>\n",
       "    <tr>\n",
       "      <th>n_days_after_onboarding</th>\n",
       "      <td>0.007101</td>\n",
       "      <td>0.006940</td>\n",
       "      <td>0.006596</td>\n",
       "      <td>1.000000</td>\n",
       "      <td>-0.002450</td>\n",
       "      <td>-0.004968</td>\n",
       "      <td>-0.004652</td>\n",
       "      <td>-0.010167</td>\n",
       "      <td>-0.009418</td>\n",
       "      <td>-0.007321</td>\n",
       "      <td>0.011764</td>\n",
       "      <td>0.003770</td>\n",
       "      <td>-0.129263</td>\n",
       "    </tr>\n",
       "    <tr>\n",
       "      <th>total_navigations_fav1</th>\n",
       "      <td>0.001858</td>\n",
       "      <td>0.001058</td>\n",
       "      <td>0.000187</td>\n",
       "      <td>-0.002450</td>\n",
       "      <td>1.000000</td>\n",
       "      <td>0.002866</td>\n",
       "      <td>-0.007368</td>\n",
       "      <td>0.005646</td>\n",
       "      <td>0.010902</td>\n",
       "      <td>0.010419</td>\n",
       "      <td>-0.000197</td>\n",
       "      <td>-0.000224</td>\n",
       "      <td>0.052322</td>\n",
       "    </tr>\n",
       "    <tr>\n",
       "      <th>total_navigations_fav2</th>\n",
       "      <td>0.008536</td>\n",
       "      <td>0.009505</td>\n",
       "      <td>0.010371</td>\n",
       "      <td>-0.004968</td>\n",
       "      <td>0.002866</td>\n",
       "      <td>1.000000</td>\n",
       "      <td>0.003559</td>\n",
       "      <td>-0.003009</td>\n",
       "      <td>-0.004425</td>\n",
       "      <td>0.002000</td>\n",
       "      <td>0.006751</td>\n",
       "      <td>0.007126</td>\n",
       "      <td>0.015032</td>\n",
       "    </tr>\n",
       "    <tr>\n",
       "      <th>driven_km_drives</th>\n",
       "      <td>0.002996</td>\n",
       "      <td>0.003445</td>\n",
       "      <td>0.001016</td>\n",
       "      <td>-0.004652</td>\n",
       "      <td>-0.007368</td>\n",
       "      <td>0.003559</td>\n",
       "      <td>1.000000</td>\n",
       "      <td>0.690515</td>\n",
       "      <td>-0.007441</td>\n",
       "      <td>-0.009549</td>\n",
       "      <td>0.344811</td>\n",
       "      <td>-0.000904</td>\n",
       "      <td>0.019767</td>\n",
       "    </tr>\n",
       "    <tr>\n",
       "      <th>duration_minutes_drives</th>\n",
       "      <td>-0.004545</td>\n",
       "      <td>-0.003889</td>\n",
       "      <td>-0.000338</td>\n",
       "      <td>-0.010167</td>\n",
       "      <td>0.005646</td>\n",
       "      <td>-0.003009</td>\n",
       "      <td>0.690515</td>\n",
       "      <td>1.000000</td>\n",
       "      <td>-0.007895</td>\n",
       "      <td>-0.009425</td>\n",
       "      <td>0.239627</td>\n",
       "      <td>-0.012128</td>\n",
       "      <td>0.040407</td>\n",
       "    </tr>\n",
       "    <tr>\n",
       "      <th>activity_days</th>\n",
       "      <td>0.025113</td>\n",
       "      <td>0.024357</td>\n",
       "      <td>0.015755</td>\n",
       "      <td>-0.009418</td>\n",
       "      <td>0.010902</td>\n",
       "      <td>-0.004425</td>\n",
       "      <td>-0.007441</td>\n",
       "      <td>-0.007895</td>\n",
       "      <td>1.000000</td>\n",
       "      <td>0.947687</td>\n",
       "      <td>-0.397433</td>\n",
       "      <td>0.453825</td>\n",
       "      <td>-0.303851</td>\n",
       "    </tr>\n",
       "    <tr>\n",
       "      <th>driving_days</th>\n",
       "      <td>0.020294</td>\n",
       "      <td>0.019608</td>\n",
       "      <td>0.012953</td>\n",
       "      <td>-0.007321</td>\n",
       "      <td>0.010419</td>\n",
       "      <td>0.002000</td>\n",
       "      <td>-0.009549</td>\n",
       "      <td>-0.009425</td>\n",
       "      <td>0.947687</td>\n",
       "      <td>1.000000</td>\n",
       "      <td>-0.407917</td>\n",
       "      <td>0.469776</td>\n",
       "      <td>-0.294259</td>\n",
       "    </tr>\n",
       "    <tr>\n",
       "      <th>km_per_driving_day</th>\n",
       "      <td>-0.011569</td>\n",
       "      <td>-0.010989</td>\n",
       "      <td>-0.016167</td>\n",
       "      <td>0.011764</td>\n",
       "      <td>-0.000197</td>\n",
       "      <td>0.006751</td>\n",
       "      <td>0.344811</td>\n",
       "      <td>0.239627</td>\n",
       "      <td>-0.397433</td>\n",
       "      <td>-0.407917</td>\n",
       "      <td>1.000000</td>\n",
       "      <td>-0.165966</td>\n",
       "      <td>0.148583</td>\n",
       "    </tr>\n",
       "    <tr>\n",
       "      <th>professional_driver</th>\n",
       "      <td>0.443654</td>\n",
       "      <td>0.444425</td>\n",
       "      <td>0.254433</td>\n",
       "      <td>0.003770</td>\n",
       "      <td>-0.000224</td>\n",
       "      <td>0.007126</td>\n",
       "      <td>-0.000904</td>\n",
       "      <td>-0.012128</td>\n",
       "      <td>0.453825</td>\n",
       "      <td>0.469776</td>\n",
       "      <td>-0.165966</td>\n",
       "      <td>1.000000</td>\n",
       "      <td>-0.122312</td>\n",
       "    </tr>\n",
       "    <tr>\n",
       "      <th>label2</th>\n",
       "      <td>0.034911</td>\n",
       "      <td>0.035865</td>\n",
       "      <td>0.024568</td>\n",
       "      <td>-0.129263</td>\n",
       "      <td>0.052322</td>\n",
       "      <td>0.015032</td>\n",
       "      <td>0.019767</td>\n",
       "      <td>0.040407</td>\n",
       "      <td>-0.303851</td>\n",
       "      <td>-0.294259</td>\n",
       "      <td>0.148583</td>\n",
       "      <td>-0.122312</td>\n",
       "      <td>1.000000</td>\n",
       "    </tr>\n",
       "  </tbody>\n",
       "</table>\n",
       "</div>"
      ],
      "text/plain": [
       "                         sessions    drives  total_sessions  \\\n",
       "sessions                 1.000000  0.996942        0.597189   \n",
       "drives                   0.996942  1.000000        0.595285   \n",
       "total_sessions           0.597189  0.595285        1.000000   \n",
       "n_days_after_onboarding  0.007101  0.006940        0.006596   \n",
       "total_navigations_fav1   0.001858  0.001058        0.000187   \n",
       "total_navigations_fav2   0.008536  0.009505        0.010371   \n",
       "driven_km_drives         0.002996  0.003445        0.001016   \n",
       "duration_minutes_drives -0.004545 -0.003889       -0.000338   \n",
       "activity_days            0.025113  0.024357        0.015755   \n",
       "driving_days             0.020294  0.019608        0.012953   \n",
       "km_per_driving_day      -0.011569 -0.010989       -0.016167   \n",
       "professional_driver      0.443654  0.444425        0.254433   \n",
       "label2                   0.034911  0.035865        0.024568   \n",
       "\n",
       "                         n_days_after_onboarding  total_navigations_fav1  \\\n",
       "sessions                                0.007101                0.001858   \n",
       "drives                                  0.006940                0.001058   \n",
       "total_sessions                          0.006596                0.000187   \n",
       "n_days_after_onboarding                 1.000000               -0.002450   \n",
       "total_navigations_fav1                 -0.002450                1.000000   \n",
       "total_navigations_fav2                 -0.004968                0.002866   \n",
       "driven_km_drives                       -0.004652               -0.007368   \n",
       "duration_minutes_drives                -0.010167                0.005646   \n",
       "activity_days                          -0.009418                0.010902   \n",
       "driving_days                           -0.007321                0.010419   \n",
       "km_per_driving_day                      0.011764               -0.000197   \n",
       "professional_driver                     0.003770               -0.000224   \n",
       "label2                                 -0.129263                0.052322   \n",
       "\n",
       "                         total_navigations_fav2  driven_km_drives  \\\n",
       "sessions                               0.008536          0.002996   \n",
       "drives                                 0.009505          0.003445   \n",
       "total_sessions                         0.010371          0.001016   \n",
       "n_days_after_onboarding               -0.004968         -0.004652   \n",
       "total_navigations_fav1                 0.002866         -0.007368   \n",
       "total_navigations_fav2                 1.000000          0.003559   \n",
       "driven_km_drives                       0.003559          1.000000   \n",
       "duration_minutes_drives               -0.003009          0.690515   \n",
       "activity_days                         -0.004425         -0.007441   \n",
       "driving_days                           0.002000         -0.009549   \n",
       "km_per_driving_day                     0.006751          0.344811   \n",
       "professional_driver                    0.007126         -0.000904   \n",
       "label2                                 0.015032          0.019767   \n",
       "\n",
       "                         duration_minutes_drives  activity_days  driving_days  \\\n",
       "sessions                               -0.004545       0.025113      0.020294   \n",
       "drives                                 -0.003889       0.024357      0.019608   \n",
       "total_sessions                         -0.000338       0.015755      0.012953   \n",
       "n_days_after_onboarding                -0.010167      -0.009418     -0.007321   \n",
       "total_navigations_fav1                  0.005646       0.010902      0.010419   \n",
       "total_navigations_fav2                 -0.003009      -0.004425      0.002000   \n",
       "driven_km_drives                        0.690515      -0.007441     -0.009549   \n",
       "duration_minutes_drives                 1.000000      -0.007895     -0.009425   \n",
       "activity_days                          -0.007895       1.000000      0.947687   \n",
       "driving_days                           -0.009425       0.947687      1.000000   \n",
       "km_per_driving_day                      0.239627      -0.397433     -0.407917   \n",
       "professional_driver                    -0.012128       0.453825      0.469776   \n",
       "label2                                  0.040407      -0.303851     -0.294259   \n",
       "\n",
       "                         km_per_driving_day  professional_driver    label2  \n",
       "sessions                          -0.011569             0.443654  0.034911  \n",
       "drives                            -0.010989             0.444425  0.035865  \n",
       "total_sessions                    -0.016167             0.254433  0.024568  \n",
       "n_days_after_onboarding            0.011764             0.003770 -0.129263  \n",
       "total_navigations_fav1            -0.000197            -0.000224  0.052322  \n",
       "total_navigations_fav2             0.006751             0.007126  0.015032  \n",
       "driven_km_drives                   0.344811            -0.000904  0.019767  \n",
       "duration_minutes_drives            0.239627            -0.012128  0.040407  \n",
       "activity_days                     -0.397433             0.453825 -0.303851  \n",
       "driving_days                      -0.407917             0.469776 -0.294259  \n",
       "km_per_driving_day                 1.000000            -0.165966  0.148583  \n",
       "professional_driver               -0.165966             1.000000 -0.122312  \n",
       "label2                             0.148583            -0.122312  1.000000  "
      ]
     },
     "execution_count": 54,
     "metadata": {},
     "output_type": "execute_result"
    }
   ],
   "source": [
    "# Generate a correlation matrix\n",
    "### YOUR CODE HERE ###\n",
    "df.corr(method='pearson')"
   ]
  },
  {
   "cell_type": "markdown",
   "metadata": {
    "id": "maeFcfOMfi1V"
   },
   "source": [
    "Now, plot a correlation heatmap."
   ]
  },
  {
   "cell_type": "code",
   "execution_count": 55,
   "metadata": {
    "id": "5HVnvWmXrOCO"
   },
   "outputs": [
    {
     "data": {
      "text/plain": [
       "<matplotlib.axes._subplots.AxesSubplot at 0x73d424315210>"
      ]
     },
     "execution_count": 55,
     "metadata": {},
     "output_type": "execute_result"
    },
    {
     "data": {
      "image/png": "[encoded data removed]",
      "text/plain": [
       "<Figure size 1080x1080 with 2 Axes>"
      ]
     },
     "metadata": {
      "needs_background": "light"
     },
     "output_type": "display_data"
    }
   ],
   "source": [
    "# Plot correlation heatmap\n",
    "### YOUR CODE HERE ###\n",
    "plt.figure(figsize=(15,15))\n",
    "sns.heatmap(df.corr(method='pearson'), vmin=-1, vmax=1, annot=True, cmap='coolwarm')"
   ]
  },
  {
   "cell_type": "markdown",
   "metadata": {
    "id": "5wvq6jl6BqBX"
   },
   "source": [
    "If there are predictor variables that have a Pearson correlation coefficient value greater than the **absolute value of 0.7**, these variables are strongly multicollinear. Therefore, only one of these variables should be used in your model.\n",
    "\n",
    "**Note:** 0.7 is an arbitrary threshold. Some industries may use 0.6, 0.8, etc.\n",
    "\n",
    "**Question:** Which variables are multicollinear with each other?"
   ]
  },
  {
   "cell_type": "markdown",
   "metadata": {
    "id": "EfkKRuFSgmiI"
   },
   "source": [
    "Sessions and drive at 1\n",
    "driving_day and activity_days at 0.95"
   ]
  },
  {
   "cell_type": "markdown",
   "metadata": {
    "id": "o3ArC_5xa7Oi"
   },
   "source": [
    "### **Task 3c. Create dummies (if necessary)**\n",
    "\n",
    "If you have selected `device` as an X variable, you will need to create dummy variables since this variable is categorical.\n",
    "\n",
    "In cases with many categorical variables, you can use pandas built-in [`pd.get_dummies()`](https://pandas.pydata.org/docs/reference/api/pandas.get_dummies.html), or you can use scikit-learn's [`OneHotEncoder()`](https://scikit-learn.org/stable/modules/generated/sklearn.preprocessing.OneHotEncoder.html) function.\n",
    "\n",
    "**Note:** Variables with many categories should only be dummied if absolutely necessary. Each category will result in a coefficient for your model which can lead to overfitting.\n",
    "\n",
    "Because this dataset only has one remaining categorical feature (`device`), it's not necessary to use one of these special functions. You can just implement the transformation directly.\n",
    "\n",
    "Create a new, binary column called `device2` that encodes user devices as follows:\n",
    "\n",
    "* `Android` -> `0`\n",
    "* `iPhone` -> `1`"
   ]
  },
  {
   "cell_type": "code",
   "execution_count": 56,
   "metadata": {
    "id": "QvDpwcQm0f35"
   },
   "outputs": [
    {
     "data": {
      "text/html": [
       "<div>\n",
       "<style scoped>\n",
       "    .dataframe tbody tr th:only-of-type {\n",
       "        vertical-align: middle;\n",
       "    }\n",
       "\n",
       "    .dataframe tbody tr th {\n",
       "        vertical-align: top;\n",
       "    }\n",
       "\n",
       "    .dataframe thead th {\n",
       "        text-align: right;\n",
       "    }\n",
       "</style>\n",
       "<table border=\"1\" class=\"dataframe\">\n",
       "  <thead>\n",
       "    <tr style=\"text-align: right;\">\n",
       "      <th></th>\n",
       "      <th>device</th>\n",
       "      <th>device2</th>\n",
       "    </tr>\n",
       "  </thead>\n",
       "  <tbody>\n",
       "    <tr>\n",
       "      <th>14994</th>\n",
       "      <td>iPhone</td>\n",
       "      <td>1</td>\n",
       "    </tr>\n",
       "    <tr>\n",
       "      <th>14995</th>\n",
       "      <td>Android</td>\n",
       "      <td>0</td>\n",
       "    </tr>\n",
       "    <tr>\n",
       "      <th>14996</th>\n",
       "      <td>iPhone</td>\n",
       "      <td>1</td>\n",
       "    </tr>\n",
       "    <tr>\n",
       "      <th>14997</th>\n",
       "      <td>iPhone</td>\n",
       "      <td>1</td>\n",
       "    </tr>\n",
       "    <tr>\n",
       "      <th>14998</th>\n",
       "      <td>iPhone</td>\n",
       "      <td>1</td>\n",
       "    </tr>\n",
       "  </tbody>\n",
       "</table>\n",
       "</div>"
      ],
      "text/plain": [
       "        device  device2\n",
       "14994   iPhone        1\n",
       "14995  Android        0\n",
       "14996   iPhone        1\n",
       "14997   iPhone        1\n",
       "14998   iPhone        1"
      ]
     },
     "execution_count": 56,
     "metadata": {},
     "output_type": "execute_result"
    }
   ],
   "source": [
    "# Create new `device2` variable\n",
    "### YOUR CODE HERE ###\n",
    "df['device2'] = np.where(df['device']=='Android', 0, 1)\n",
    "df[['device', 'device2']].tail()"
   ]
  },
  {
   "cell_type": "markdown",
   "metadata": {
    "id": "iDYyjWssbnBG"
   },
   "source": [
    "### **Task 3d. Model building**"
   ]
  },
  {
   "cell_type": "markdown",
   "metadata": {
    "id": "TvmcjB19Cpw-"
   },
   "source": [
    "#### **Assign predictor variables and target**\n",
    "\n",
    "To build your model you need to determine what X variables you want to include in your model to predict your target&mdash;`label2`.\n",
    "\n",
    "Drop the following variables and assign the results to `X`:\n",
    "\n",
    "* `label` (this is the target)\n",
    "* `label2` (this is the target)\n",
    "* `device` (this is the non-binary-encoded categorical variable)\n",
    "* `sessions` (this had high multicollinearity)\n",
    "* `driving_days` (this had high multicollinearity)\n",
    "\n",
    "**Note:** Notice that `sessions` and `driving_days` were selected to be dropped, rather than `drives` and `activity_days`. The reason for this is that the features that were kept for modeling had slightly stronger correlations with the target variable than the features that were dropped."
   ]
  },
  {
   "cell_type": "code",
   "execution_count": 57,
   "metadata": {
    "id": "AzcDgLRET4d7"
   },
   "outputs": [],
   "source": [
    "# Isolate predictor variables\n",
    "### YOUR CODE HERE ###\n",
    "X = df.drop(columns = ['label', 'label2', 'device', 'sessions', 'driving_days'])"
   ]
  },
  {
   "cell_type": "markdown",
   "metadata": {
    "id": "5c1Dzcz6C3WR"
   },
   "source": [
    "Now, isolate the dependent (target) variable. Assign it to a variable called `y`."
   ]
  },
  {
   "cell_type": "code",
   "execution_count": 58,
   "metadata": {
    "id": "h0QFCHIJC3-I"
   },
   "outputs": [],
   "source": [
    "# Isolate target variable\n",
    "### YOUR CODE HERE ###\n",
    "y = df['label2']"
   ]
  },
  {
   "cell_type": "markdown",
   "metadata": {
    "id": "VOewKY740Beq"
   },
   "source": [
    "#### **Split the data**\n",
    "\n",
    "Use scikit-learn's [`train_test_split()`](https://scikit-learn.org/stable/modules/generated/sklearn.model_selection.train_test_split.html) function to perform a train/test split on your data using the X and y variables you assigned above.\n",
    "\n",
    "**Note 1:** It is important to do a train test to obtain accurate predictions.  You always want to fit your model on your training set and evaluate your model on your test set to avoid data leakage.\n",
    "\n",
    "**Note 2:** Because the target class is imbalanced (82% retained vs. 18% churned), you want to make sure that you don't get an unlucky split that over- or under-represents the frequency of the minority class. Set the function's `stratify` parameter to `y` to ensure that the minority class appears in both train and test sets in the same proportion that it does in the overall dataset."
   ]
  },
  {
   "cell_type": "code",
   "execution_count": 59,
   "metadata": {
    "id": "ulDZdfSS0FyD"
   },
   "outputs": [],
   "source": [
    "# Perform the train-test split\n",
    "### YOUR CODE HERE ###\n",
    "X_train, X_test, y_train, y_test = train_test_split(X, y, stratify=y, random_state=42)"
   ]
  },
  {
   "cell_type": "code",
   "execution_count": 60,
   "metadata": {
    "id": "Q1vdmEo3mKmO"
   },
   "outputs": [
    {
     "data": {
      "text/html": [
       "<div>\n",
       "<style scoped>\n",
       "    .dataframe tbody tr th:only-of-type {\n",
       "        vertical-align: middle;\n",
       "    }\n",
       "\n",
       "    .dataframe tbody tr th {\n",
       "        vertical-align: top;\n",
       "    }\n",
       "\n",
       "    .dataframe thead th {\n",
       "        text-align: right;\n",
       "    }\n",
       "</style>\n",
       "<table border=\"1\" class=\"dataframe\">\n",
       "  <thead>\n",
       "    <tr style=\"text-align: right;\">\n",
       "      <th></th>\n",
       "      <th>drives</th>\n",
       "      <th>total_sessions</th>\n",
       "      <th>n_days_after_onboarding</th>\n",
       "      <th>total_navigations_fav1</th>\n",
       "      <th>total_navigations_fav2</th>\n",
       "      <th>driven_km_drives</th>\n",
       "      <th>duration_minutes_drives</th>\n",
       "      <th>activity_days</th>\n",
       "      <th>km_per_driving_day</th>\n",
       "      <th>professional_driver</th>\n",
       "      <th>device2</th>\n",
       "    </tr>\n",
       "  </thead>\n",
       "  <tbody>\n",
       "    <tr>\n",
       "      <th>152</th>\n",
       "      <td>108</td>\n",
       "      <td>186.192746</td>\n",
       "      <td>3116</td>\n",
       "      <td>243</td>\n",
       "      <td>124</td>\n",
       "      <td>8898.716275</td>\n",
       "      <td>4668.180092</td>\n",
       "      <td>24</td>\n",
       "      <td>612.305861</td>\n",
       "      <td>1</td>\n",
       "      <td>1</td>\n",
       "    </tr>\n",
       "    <tr>\n",
       "      <th>11899</th>\n",
       "      <td>2</td>\n",
       "      <td>3.487590</td>\n",
       "      <td>794</td>\n",
       "      <td>114</td>\n",
       "      <td>18</td>\n",
       "      <td>3286.545691</td>\n",
       "      <td>1780.902733</td>\n",
       "      <td>5</td>\n",
       "      <td>3286.545691</td>\n",
       "      <td>0</td>\n",
       "      <td>1</td>\n",
       "    </tr>\n",
       "    <tr>\n",
       "      <th>10937</th>\n",
       "      <td>139</td>\n",
       "      <td>347.106403</td>\n",
       "      <td>331</td>\n",
       "      <td>4</td>\n",
       "      <td>7</td>\n",
       "      <td>7400.838975</td>\n",
       "      <td>2349.305267</td>\n",
       "      <td>15</td>\n",
       "      <td>616.736581</td>\n",
       "      <td>0</td>\n",
       "      <td>0</td>\n",
       "    </tr>\n",
       "    <tr>\n",
       "      <th>669</th>\n",
       "      <td>108</td>\n",
       "      <td>455.439492</td>\n",
       "      <td>2320</td>\n",
       "      <td>11</td>\n",
       "      <td>4</td>\n",
       "      <td>6566.424830</td>\n",
       "      <td>4558.459870</td>\n",
       "      <td>18</td>\n",
       "      <td>410.401552</td>\n",
       "      <td>1</td>\n",
       "      <td>1</td>\n",
       "    </tr>\n",
       "    <tr>\n",
       "      <th>8406</th>\n",
       "      <td>10</td>\n",
       "      <td>89.475821</td>\n",
       "      <td>2478</td>\n",
       "      <td>135</td>\n",
       "      <td>0</td>\n",
       "      <td>1271.248661</td>\n",
       "      <td>938.711572</td>\n",
       "      <td>27</td>\n",
       "      <td>74.779333</td>\n",
       "      <td>0</td>\n",
       "      <td>1</td>\n",
       "    </tr>\n",
       "  </tbody>\n",
       "</table>\n",
       "</div>"
      ],
      "text/plain": [
       "       drives  total_sessions  n_days_after_onboarding  \\\n",
       "152       108      186.192746                     3116   \n",
       "11899       2        3.487590                      794   \n",
       "10937     139      347.106403                      331   \n",
       "669       108      455.439492                     2320   \n",
       "8406       10       89.475821                     2478   \n",
       "\n",
       "       total_navigations_fav1  total_navigations_fav2  driven_km_drives  \\\n",
       "152                       243                     124       8898.716275   \n",
       "11899                     114                      18       3286.545691   \n",
       "10937                       4                       7       7400.838975   \n",
       "669                        11                       4       6566.424830   \n",
       "8406                      135                       0       1271.248661   \n",
       "\n",
       "       duration_minutes_drives  activity_days  km_per_driving_day  \\\n",
       "152                4668.180092             24          612.305861   \n",
       "11899              1780.902733              5         3286.545691   \n",
       "10937              2349.305267             15          616.736581   \n",
       "669                4558.459870             18          410.401552   \n",
       "8406                938.711572             27           74.779333   \n",
       "\n",
       "       professional_driver  device2  \n",
       "152                      1        1  \n",
       "11899                    0        1  \n",
       "10937                    0        0  \n",
       "669                      1        1  \n",
       "8406                     0        1  "
      ]
     },
     "execution_count": 60,
     "metadata": {},
     "output_type": "execute_result"
    }
   ],
   "source": [
    "# Use .head()\n",
    "### YOUR CODE HERE ###\n",
    "X_train.head()"
   ]
  },
  {
   "cell_type": "markdown",
   "metadata": {
    "id": "ZMUo8Ri-zK7r"
   },
   "source": [
    "Use scikit-learn to instantiate a logistic regression model. Add the argument `penalty = None`.\n",
    "\n",
    "It is important to add `penalty = None` since your predictors are unscaled.\n",
    "\n",
    "Refer to scikit-learn's [logistic regression](https://scikit-learn.org/stable/modules/generated/sklearn.linear_model.LogisticRegression.html) documentation for more information.\n",
    "\n",
    "Fit the model on `X_train` and `y_train`."
   ]
  },
  {
   "cell_type": "code",
   "execution_count": 61,
   "metadata": {
    "id": "zrTNaDVZheyp"
   },
   "outputs": [
    {
     "data": {
      "text/plain": [
       "LogisticRegression(C=1.0, class_weight=None, dual=False, fit_intercept=True,\n",
       "                   intercept_scaling=1, l1_ratio=None, max_iter=400,\n",
       "                   multi_class='auto', n_jobs=None, penalty='none',\n",
       "                   random_state=None, solver='lbfgs', tol=0.0001, verbose=0,\n",
       "                   warm_start=False)"
      ]
     },
     "execution_count": 61,
     "metadata": {},
     "output_type": "execute_result"
    }
   ],
   "source": [
    "### YOUR CODE HERE ###\n",
    "model = LogisticRegression(penalty='none', max_iter=400)\n",
    "\n",
    "model.fit(X_train, y_train)"
   ]
  },
  {
   "cell_type": "markdown",
   "metadata": {
    "id": "aPoDllWB6ULV"
   },
   "source": [
    "Call the `.coef_` attribute on the model to get the coefficients of each variable.  The coefficients are in order of how the variables are listed in the dataset.  Remember that the coefficients represent the change in the **log odds** of the target variable for **every one unit increase in X**.\n",
    "\n",
    "If you want, create a series whose index is the column names and whose values are the coefficients in `model.coef_`."
   ]
  },
  {
   "cell_type": "code",
   "execution_count": 62,
   "metadata": {
    "id": "7Ri-OHrlmd8j"
   },
   "outputs": [
    {
     "data": {
      "text/plain": [
       "LogisticRegression(C=1.0, class_weight=None, dual=False, fit_intercept=True,\n",
       "                   intercept_scaling=1, l1_ratio=None, max_iter=400,\n",
       "                   multi_class='auto', n_jobs=None, penalty='none',\n",
       "                   random_state=None, solver='lbfgs', tol=0.0001, verbose=0,\n",
       "                   warm_start=False)"
      ]
     },
     "execution_count": 62,
     "metadata": {},
     "output_type": "execute_result"
    }
   ],
   "source": [
    "### YOUR CODE HERE ###\n",
    "model = LogisticRegression(penalty='none', max_iter=400)\n",
    "\n",
    "model.fit(X_train, y_train)"
   ]
  },
  {
   "cell_type": "markdown",
   "metadata": {
    "id": "_ENmLXXp8JDM"
   },
   "source": [
    "Call the model's `intercept_` attribute to get the intercept of the model."
   ]
  },
  {
   "cell_type": "code",
   "execution_count": 76,
   "metadata": {
    "id": "hWeruvy1wksj"
   },
   "outputs": [
    {
     "data": {
      "text/plain": [
       "array([[ 1.91336945e-03,  3.27070888e-04, -4.06477637e-04,\n",
       "         1.23175474e-03,  9.31478651e-04, -1.48604534e-05,\n",
       "         1.09093436e-04, -1.06031965e-01,  1.82230940e-05,\n",
       "        -1.52850416e-03, -1.04121752e-03]])"
      ]
     },
     "execution_count": 76,
     "metadata": {},
     "output_type": "execute_result"
    }
   ],
   "source": [
    "### YOUR CODE HERE ###\n",
    "model.coef_"
   ]
  },
  {
   "cell_type": "code",
   "execution_count": 80,
   "metadata": {},
   "outputs": [
    {
     "data": {
      "text/plain": [
       "drives                     0.001913\n",
       "total_sessions             0.000327\n",
       "n_days_after_onboarding   -0.000406\n",
       "total_navigations_fav1     0.001232\n",
       "total_navigations_fav2     0.000931\n",
       "driven_km_drives          -0.000015\n",
       "duration_minutes_drives    0.000109\n",
       "activity_days             -0.106032\n",
       "km_per_driving_day         0.000018\n",
       "professional_driver       -0.001529\n",
       "device2                   -0.001041\n",
       "dtype: float64"
      ]
     },
     "execution_count": 80,
     "metadata": {},
     "output_type": "execute_result"
    }
   ],
   "source": [
    "#do this to get all the intercepts\n",
    "pd.Series(model.coef_[0], index=X.columns)"
   ]
  },
  {
   "cell_type": "markdown",
   "metadata": {
    "id": "tdVIjKNHmlY_"
   },
   "source": [
    "#### **Check final assumption**\n",
    "\n",
    "Verify the linear relationship between X and the estimated log odds (known as logits) by making a regplot.\n",
    "\n",
    "Call the model's `predict_proba()` method to generate the probability of response for each sample in the training data. (The training data is the argument to the method.) Assign the result to a variable called `training_probabilities`. This results in a 2-D array where each row represents a user in `X_train`. The first column is the probability of the user not churning, and the second column is the probability of the user churning."
   ]
  },
  {
   "cell_type": "code",
   "execution_count": 81,
   "metadata": {
    "id": "aY71xhehmo9i"
   },
   "outputs": [
    {
     "data": {
      "text/plain": [
       "array([[0.93963483, 0.06036517],\n",
       "       [0.61967304, 0.38032696],\n",
       "       [0.76463181, 0.23536819],\n",
       "       ...,\n",
       "       [0.91909641, 0.08090359],\n",
       "       [0.85092112, 0.14907888],\n",
       "       [0.93516293, 0.06483707]])"
      ]
     },
     "execution_count": 81,
     "metadata": {},
     "output_type": "execute_result"
    }
   ],
   "source": [
    "# Get the predicted probabilities of the training data\n",
    "### YOUR CODE HERE ###\n",
    "training_probabilities = model.predict_proba(X_train)\n",
    "training_probabilities"
   ]
  },
  {
   "cell_type": "markdown",
   "metadata": {
    "id": "9AGMCvdfmpfU"
   },
   "source": [
    "In logistic regression, the relationship between a predictor variable and the dependent variable does not need to be linear, however, the log-odds (a.k.a., logit) of the dependent variable with respect to the predictor variable should be linear. Here is the formula for calculating log-odds, where _p_ is the probability of response:\n",
    "<br>\n",
    "$$\n",
    "logit(p) = ln(\\frac{p}{1-p})\n",
    "$$\n",
    "<br>\n",
    "\n",
    "1. Create a dataframe called `logit_data` that is a copy of `df`.\n",
    "\n",
    "2. Create a new column called `logit` in the `logit_data` dataframe. The data in this column should represent the logit for each user.\n"
   ]
  },
  {
   "cell_type": "code",
   "execution_count": 82,
   "metadata": {
    "id": "-tXq8gYnEw6M"
   },
   "outputs": [],
   "source": [
    "# 1. Copy the `X_train` dataframe and assign to `logit_data`\n",
    "logit_data = X_train.copy()\n",
    "\n",
    "# 2. Create a new `logit` column in the `logit_data` df\n",
    "logit_data['logit'] = [np.log(prob[1] / prob[0]) for prob in training_probabilities]"
   ]
  },
  {
   "cell_type": "markdown",
   "metadata": {
    "id": "J6oVbApcEx71"
   },
   "source": [
    "Plot a regplot where the x-axis represents an independent variable and the y-axis represents the log-odds of the predicted probabilities.\n",
    "\n",
    "In an exhaustive analysis, this would be plotted for each continuous or discrete predictor variable. Here we show only `driving_days`."
   ]
  },
  {
   "cell_type": "code",
   "execution_count": 66,
   "metadata": {
    "id": "5ix8VT0VEzQK"
   },
   "outputs": [],
   "source": [
    "# Plot regplot of `activity_days` log-odds\n",
    "### YOUR CODE HERE ###"
   ]
  },
  {
   "cell_type": "markdown",
   "metadata": {
    "id": "cp7ojoBldEYy"
   },
   "source": [
    "<img src=\"images/Execute.png\" width=\"100\" height=\"100\" align=left>\n",
    "\n",
    "## **PACE: Execute**\n",
    "\n",
    "Consider the questions in your PACE Strategy Document to reflect on the Execute stage."
   ]
  },
  {
   "cell_type": "markdown",
   "metadata": {
    "id": "F_l3bkxQdJ3a"
   },
   "source": [
    "### **Task 4a. Results and evaluation**\n",
    "\n",
    "If the logistic assumptions are met, the model results can be appropriately interpreted.\n",
    "\n",
    "Use the code block below to make predictions on the test data.\n"
   ]
  },
  {
   "cell_type": "code",
   "execution_count": 83,
   "metadata": {
    "id": "cSl5gbXfBPBN"
   },
   "outputs": [
    {
     "data": {
      "text/plain": [
       "<matplotlib.axes._subplots.AxesSubplot at 0x73d41fe51fd0>"
      ]
     },
     "execution_count": 83,
     "metadata": {},
     "output_type": "execute_result"
    },
    {
     "data": {
      "image/png": "[encoded data removed]",
      "text/plain": [
       "<Figure size 432x288 with 1 Axes>"
      ]
     },
     "metadata": {
      "needs_background": "light"
     },
     "output_type": "display_data"
    }
   ],
   "source": [
    "# Generate predictions on X_test\n",
    "sns.regplot(x='activity_days', y='logit', data=logit_data)\n",
    "### YOUR CODE HERE ###"
   ]
  },
  {
   "cell_type": "markdown",
   "metadata": {
    "id": "dbN_LHUb9uhp"
   },
   "source": [
    "Now, use the `score()` method on the model with `X_test` and `y_test` as its two arguments. The default score in scikit-learn is **accuracy**.  What is the accuracy of your model?\n",
    "\n",
    "*Consider:  Is accuracy the best metric to use to evaluate this model?*"
   ]
  },
  {
   "cell_type": "code",
   "execution_count": 85,
   "metadata": {
    "id": "fU3v-XO49qm8"
   },
   "outputs": [
    {
     "data": {
      "text/plain": [
       "0.8237762237762237"
      ]
     },
     "execution_count": 85,
     "metadata": {},
     "output_type": "execute_result"
    }
   ],
   "source": [
    "# Score the model (accuracy) on the test data\n",
    "### YOUR CODE HERE ###\n",
    "y_preds = model.predict(X_test)\n",
    "model.score(X_test, y_test)"
   ]
  },
  {
   "cell_type": "markdown",
   "metadata": {
    "id": "mwRmSDS3eyeH"
   },
   "source": [
    "### **Task 4b. Show results with a confusion matrix**"
   ]
  },
  {
   "cell_type": "markdown",
   "metadata": {
    "id": "qUKLVt50-zFE"
   },
   "source": [
    "Use the `confusion_matrix` function to obtain a confusion matrix. Use `y_test` and `y_preds` as arguments."
   ]
  },
  {
   "cell_type": "code",
   "execution_count": 86,
   "metadata": {
    "id": "IBFU_dicBjwQ"
   },
   "outputs": [],
   "source": [
    "### YOUR CODE HERE ###\n",
    "cm = confusion_matrix(y_test, y_preds)"
   ]
  },
  {
   "cell_type": "markdown",
   "metadata": {
    "id": "EKS_DsNcGotN"
   },
   "source": [
    "Next, use the `ConfusionMatrixDisplay()` function to display the confusion matrix from the above cell, passing the confusion matrix you just created as its argument."
   ]
  },
  {
   "cell_type": "code",
   "execution_count": 89,
   "metadata": {
    "id": "BT0hOH_ZFsnx"
   },
   "outputs": [
    {
     "data": {
      "text/plain": [
       "<sklearn.metrics._plot.confusion_matrix.ConfusionMatrixDisplay at 0x73d41fe51090>"
      ]
     },
     "execution_count": 89,
     "metadata": {},
     "output_type": "execute_result"
    },
    {
     "data": {
      "image/png": "[encoded data removed]",
      "text/plain": [
       "<Figure size 432x288 with 2 Axes>"
      ]
     },
     "metadata": {
      "needs_background": "light"
     },
     "output_type": "display_data"
    }
   ],
   "source": [
    "### YOUR CODE HERE ###\n",
    "disp = ConfusionMatrixDisplay(confusion_matrix=cm, \n",
    "                              display_labels=['retained', 'churned'],\n",
    "                              )\n",
    "disp.plot()"
   ]
  },
  {
   "cell_type": "markdown",
   "metadata": {
    "id": "tkqTjhWotVCK"
   },
   "source": [
    "You can use the confusion matrix to compute precision and recall manually. You can also use scikit-learn's [`classification_report()`](https://scikit-learn.org/stable/modules/generated/sklearn.metrics.classification_report.html) function to generate a table from `y_test` and `y_preds`."
   ]
  },
  {
   "cell_type": "code",
   "execution_count": 90,
   "metadata": {
    "id": "39RM-g6UtbJ_"
   },
   "outputs": [
    {
     "data": {
      "text/plain": [
       "0.5178571428571429"
      ]
     },
     "execution_count": 90,
     "metadata": {},
     "output_type": "execute_result"
    }
   ],
   "source": [
    "# Calculate precision manually\n",
    "### YOUR CODE HERE ###\n",
    "precision = cm[1,1] / (cm[0, 1] + cm[1, 1])\n",
    "precision"
   ]
  },
  {
   "cell_type": "code",
   "execution_count": 91,
   "metadata": {
    "id": "xUy7TDpHGlOf"
   },
   "outputs": [
    {
     "data": {
      "text/plain": [
       "0.0914826498422713"
      ]
     },
     "execution_count": 91,
     "metadata": {},
     "output_type": "execute_result"
    }
   ],
   "source": [
    "# Calculate recall manually\n",
    "### YOUR CODE HERE ###\n",
    "recall = cm[1,1] / (cm[1, 0] + cm[1, 1])\n",
    "recall"
   ]
  },
  {
   "cell_type": "code",
   "execution_count": 92,
   "metadata": {
    "id": "jTxfglLMGlr_"
   },
   "outputs": [
    {
     "name": "stdout",
     "output_type": "stream",
     "text": [
      "              precision    recall  f1-score   support\n",
      "\n",
      "    retained       0.83      0.98      0.90      2941\n",
      "     churned       0.52      0.09      0.16       634\n",
      "\n",
      "    accuracy                           0.82      3575\n",
      "   macro avg       0.68      0.54      0.53      3575\n",
      "weighted avg       0.78      0.82      0.77      3575\n",
      "\n"
     ]
    }
   ],
   "source": [
    "# Create a classification report\n",
    "### YOUR CODE HERE ###\n",
    "target_labels = ['retained', 'churned']\n",
    "print(classification_report(y_test, y_preds, target_names=target_labels))"
   ]
  },
  {
   "cell_type": "markdown",
   "metadata": {
    "id": "v8FQnyhnHFT7"
   },
   "source": [
    "**Note:** The model has decent precision but very low recall, which means that it makes a lot of false negative predictions and fails to capture users who will churn."
   ]
  },
  {
   "cell_type": "markdown",
   "metadata": {
    "id": "uSpkqurtHJSE"
   },
   "source": [
    "### **BONUS**\n",
    "\n",
    "Generate a bar graph of the model's coefficients for a visual representation of the importance of the model's features."
   ]
  },
  {
   "cell_type": "code",
   "execution_count": 74,
   "metadata": {
    "id": "tuT0aP6FHL6B"
   },
   "outputs": [],
   "source": [
    "# Create a list of (column_name, coefficient) tuples\n",
    "### YOUR CODE HERE ###\n",
    "\n",
    "# Sort the list by coefficient value\n",
    "### YOUR CODE HERE ###"
   ]
  },
  {
   "cell_type": "code",
   "execution_count": 75,
   "metadata": {
    "id": "kaam2OD8HOP5"
   },
   "outputs": [],
   "source": [
    "# Plot the feature importances\n",
    "### YOUR CODE HERE ###"
   ]
  },
  {
   "cell_type": "markdown",
   "metadata": {
    "id": "P6AlDDyhdzmG"
   },
   "source": [
    "### **Task 4c. Conclusion**\n",
    "\n",
    "Now that you've built your regression model, the next step is to share your findings with the Waze leadership team. Consider the following questions as you prepare to write your executive summary. Think about key points you may want to share with the team, and what information is most relevant to the user churn project.\n",
    "\n",
    "**Questions:**\n",
    "\n",
    "1. What variable most influenced the model's prediction? How? Was this surprising?\n",
    "\n",
    "2. Were there any variables that you expected to be stronger predictors than they were?\n",
    "\n",
    "3. Why might a variable you thought to be important not be important in the model?\n",
    "\n",
    "4. Would you recommend that Waze use this model? Why or why not?\n",
    "\n",
    "5. What could you do to improve this model?\n",
    "\n",
    "6. What additional features would you like to have to help improve the model?\n"
   ]
  },
  {
   "cell_type": "markdown",
   "metadata": {
    "id": "fTs79FvvT9It"
   },
   "source": [
    "==> ENTER YOUR RESPONSES TO QUESTIONS 1-6 HERE"
   ]
  },
  {
   "cell_type": "markdown",
   "metadata": {},
   "source": [
    "**Congratulations!** You've completed this lab. However, you may not notice a green check mark next to this item on Coursera's platform. Please continue your progress regardless of the check mark. Just click on the \"save\" icon at the top of this notebook to ensure your work has been logged. "
   ]
  },
  {
   "cell_type": "code",
   "execution_count": null,
   "metadata": {},
   "outputs": [],
   "source": []
  }
 ],
 "metadata": {
  "colab": {
   "provenance": [
    {
     "file_id": "10VdUGxtn9_2OaVJAptrlOkngf4ZKm52V",
     "timestamp": 1671215458572
    },
    {
     "file_id": "1Et0HEKWEY0dZ0BaNZeH189bi-PnC-iUH",
     "timestamp": 1671209438879
    },
    {
     "file_id": "16ynSVRiYFz40jV9BFaXgY62vWJWEVjFA",
     "timestamp": 1671052218770
    },
    {
     "file_id": "15PPfvGb4OuUkuQoTTpKKgSeY9o9a_XrL",
     "timestamp": 1669649625868
    },
    {
     "file_id": "1_uBujapIzHItho27E-iPg9wn3aHtsjLG",
     "timestamp": 1664565386285
    }
   ],
   "toc_visible": true
  },
  "kernelspec": {
   "display_name": "Python 3",
   "language": "python",
   "name": "python3"
  },
  "language_info": {
   "codemirror_mode": {
    "name": "ipython",
    "version": 3
   },
   "file_extension": ".py",
   "mimetype": "text/x-python",
   "name": "python",
   "nbconvert_exporter": "python",
   "pygments_lexer": "ipython3",
   "version": "3.7.6"
  }
 },
 "nbformat": 4,
 "nbformat_minor": 1
}
